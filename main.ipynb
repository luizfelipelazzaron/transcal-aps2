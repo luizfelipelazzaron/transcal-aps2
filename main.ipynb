{
  "nbformat": 4,
  "nbformat_minor": 0,
  "metadata": {
    "colab": {
      "provenance": [],
      "authorship_tag": "ABX9TyOOoWSpZjNI0yekL7fcYq8B",
      "include_colab_link": true
    },
    "kernelspec": {
      "name": "python3",
      "display_name": "Python 3"
    },
    "language_info": {
      "name": "python"
    }
  },
  "cells": [
    {
      "cell_type": "markdown",
      "metadata": {
        "id": "view-in-github",
        "colab_type": "text"
      },
      "source": [
        "<a href=\"https://colab.research.google.com/github/luizfelipelazzaron/transcal-aps2/blob/main/main.ipynb\" target=\"_parent\"><img src=\"https://colab.research.google.com/assets/colab-badge.svg\" alt=\"Open In Colab\"/></a>"
      ]
    },
    {
      "cell_type": "markdown",
      "source": [],
      "metadata": {
        "id": "RLEASiBlZ1uz"
      }
    },
    {
      "cell_type": "markdown",
      "source": [
        "# Engenharia Transferência de Calor e Mecânica dos Sólidos\n",
        "## APS 2\n"
      ],
      "metadata": {
        "id": "15yEf12CaDK1"
      }
    },
    {
      "cell_type": "code",
      "execution_count": null,
      "metadata": {
        "id": "QMXKB76dXuFK"
      },
      "outputs": [],
      "source": []
    },
    {
      "cell_type": "code",
      "source": [],
      "metadata": {
        "id": "dKtLoQifZ7sC"
      },
      "execution_count": null,
      "outputs": []
    }
  ]
}