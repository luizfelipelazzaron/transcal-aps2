{
 "cells": [
  {
   "cell_type": "markdown",
   "metadata": {
    "colab_type": "text",
    "id": "view-in-github"
   },
   "source": [
    "<a href=\"https://colab.research.google.com/github/luizfelipelazzaron/transcal-aps2/blob/main/main.ipynb\" target=\"_parent\"><img src=\"https://colab.research.google.com/assets/colab-badge.svg\" alt=\"Open In Colab\"/></a>"
   ]
  },
  {
   "cell_type": "markdown",
   "metadata": {
    "id": "RLEASiBlZ1uz"
   },
   "source": []
  },
  {
   "cell_type": "markdown",
   "metadata": {
    "id": "15yEf12CaDK1"
   },
   "source": [
    "# Engenharia Transferência de Calor e Mecânica dos Sólidos\n",
    "## APS 2\n",
    "\n"
   ]
  },
  {
   "cell_type": "code",
   "execution_count": 1,
   "metadata": {},
   "outputs": [],
   "source": [
    "import numpy as np\n",
    "import matplotlib.pyplot as plt\n",
    "import math\n",
    "# Definindo os parâmetros\n",
    "\n",
    "rho = 2700.0\n",
    "cp = 896.0\n",
    "k = 180.0\n",
    "h = 50.0\n",
    "Tinf = 50.0 + 273.0\n",
    "Tb = 100.0 + 273.0\n",
    "raio = (5e-3)/2\n",
    "l = 300e-3\n",
    "dx = 0.001\n",
    "P = 2*math.pi*raio\n",
    "A = math.pi*raio**2\n",
    "alpha = k/(rho*cp)\n",
    "dt = 0.9*(dx**2)/(alpha*(((h*P*dx*dx)/(A*k))+2))\n",
    "Ttot = 800\n",
    "Tl = 25 + 273\n",
    "tol = 1e-10\n",
    "M = int(Ttot/dt)"
   ]
  },
  {
   "cell_type": "code",
   "execution_count": null,
   "metadata": {},
   "outputs": [],
   "source": [
    "\n",
    "\n",
    "\"\"\"\n",
    "Método de diferenças finitas para resolução de problemas de transferência de calor 1D\n",
    "\"\"\"\n",
    "# Definindo o número de nós\n",
    "N = int(l/dx)\n",
    "# Definindo o número de pontos de tempo\n",
    "\n",
    "# Definindo a matriz de temperaturas\n",
    "T = np.zeros((N,M))\n",
    "T[:,:] = 0 \n",
    "# Definindo a condição de contorno\n",
    "T[:,:] = Tinf\n",
    "T[0,:] = Tb\n",
    "T[N-1,:] = 25.0 + 273.0\n",
    "\n",
    "for t in np.arange(0,M-1):\n",
    "    for i in np.arange(1,N-1):\n",
    "        a = (T[i+1,t] - 2*T[i,t] + T[i-1,t])/(dx*dx)\n",
    "        b = h*P*(Tinf - T[i,t])/(A*k)\n",
    "        T[i,t+1] = T[i,t] + (alpha*dt)*(a+b)\n",
    "        \n",
    "    erro = np.amax(abs((T[1:N-1, t+1] - T[1:N-1, t])/np.max(T[1:N-1, t+1])))\n",
    "    if (abs(erro) <= tol):\n",
    "        tempo = t+1\n",
    "        print(f'O erro acontece no tempo {(t+1)*dt:.2f} s, onde consideramos que o sistema está em regime permanente')\n",
    "        break"
   ]
  },
  {
   "cell_type": "code",
   "execution_count": null,
   "metadata": {},
   "outputs": [],
   "source": [
    "# Plotando o gráfico\n",
    "plt.plot(np.linspace(0, l, N), np.array(T[:, tempo]), label='Solução numérica')\n",
    "plt.xlabel('Posição (m)')\n",
    "plt.ylabel('Temperatura (K)')\n",
    "plt.title('Temperatura ao longo do comprimento')\n",
    "plt.grid(True)\n",
    "plt.show()"
   ]
  },
  {
   "cell_type": "code",
   "execution_count": null,
   "metadata": {},
   "outputs": [],
   "source": [
    "Tf = []\n",
    "# Diferença de temperatura entre a base e a temperatura infinita (Kelvin)\n",
    "teta_b = Tb - Tinf\n",
    "teta_l = Tl - Tinf\n",
    "#Parâmetros\n",
    "M = teta_b*(h * P * k * A)**0.5\n",
    "m = ((h * P) / (k * A))**0.5\n",
    "# Posições ao longo do comprimento (m)\n",
    "tamanhos = np.linspace(0, l, 1000)\n",
    "for x in tamanhos:\n",
    "  #Diferença de temperatura\n",
    "  teta = teta_b * (((teta_l/teta_b)*np.sinh(m*x) + np.sinh(m*(l-x))) / (np.sinh(m*l)))\n",
    "\n",
    "  # Temperaturas em cada posição ao longo do comprimento (Kelvin)\n",
    "  Tf.append(Tinf + teta)"
   ]
  },
  {
   "cell_type": "code",
   "execution_count": null,
   "metadata": {},
   "outputs": [],
   "source": [
    "# Plotando o gráfico\n",
    "plt.plot(tamanhos, Tf, label='Solução analítica')\n",
    "plt.xlabel('Posição (m)')\n",
    "plt.ylabel('Temperatura (K)')\n",
    "plt.title('Temperatura ao longo do comprimento')\n",
    "plt.grid(True)\n",
    "plt.show()"
   ]
  },
  {
   "cell_type": "code",
   "execution_count": null,
   "metadata": {},
   "outputs": [],
   "source": [
    "\n"
   ]
  }
 ],
 "metadata": {
  "colab": {
   "authorship_tag": "ABX9TyOOoWSpZjNI0yekL7fcYq8B",
   "include_colab_link": true,
   "provenance": []
  },
  "kernelspec": {
   "display_name": "Python 3",
   "language": "python",
   "name": "python3"
  },
  "language_info": {
   "codemirror_mode": {
    "name": "ipython",
    "version": 3
   },
   "file_extension": ".py",
   "mimetype": "text/x-python",
   "name": "python",
   "nbconvert_exporter": "python",
   "pygments_lexer": "ipython3",
   "version": "3.8.5"
  }
 },
 "nbformat": 4,
 "nbformat_minor": 1
}
